{
 "cells": [
  {
   "cell_type": "code",
   "execution_count": 1,
   "metadata": {},
   "outputs": [],
   "source": [
    "import numpy as np\n",
    "import pandas as pd\n",
    "import matplotlib.pyplot as plt\n",
    "from sklearn.preprocessing import StandardScaler\n",
    "from sklearn.model_selection import train_test_split\n",
    "from sklearn.decomposition import PCA\n",
    "from sklearn.ensemble import RandomForestRegressor\n",
    "from sklearn.linear_model import LinearRegression\n",
    "from collections import Counter as ct\n",
    "plt.rcParams['figure.figsize'] = (8,5)\n",
    "%matplotlib inline"
   ]
  },
  {
   "cell_type": "code",
   "execution_count": 2,
   "metadata": {},
   "outputs": [],
   "source": [
    "data_train = pd.read_csv('../nikhil/Desktop/practice/train.csv')\n",
    "data_test = pd.read_csv('../nikhil/Desktop/practice/test.csv')"
   ]
  },
  {
   "cell_type": "code",
   "execution_count": 3,
   "metadata": {},
   "outputs": [],
   "source": [
    "# For describing numerical columns and drawing histograms\n",
    "def descr(x):\n",
    "    la = x.columns[x.isnull().any()].tolist()\n",
    "    data_train_numeric_col = x._get_numeric_data().columns.tolist()\n",
    "    df_cols = []\n",
    "    for i in la:\n",
    "        if i in data_train_numeric_col:\n",
    "            df_cols.append(i)\n",
    "            b = x[i].isnull().value_counts()\n",
    "            print(\"Name of Column\", i + \":\\nNumber of Null values:\\n\",b)\n",
    "    df = x[df_cols]\n",
    "    print(df.describe())\n",
    "    return df.hist()"
   ]
  },
  {
   "cell_type": "code",
   "execution_count": 4,
   "metadata": {},
   "outputs": [
    {
     "name": "stdout",
     "output_type": "stream",
     "text": [
      "Name of Column LotFrontage:\n",
      "Number of Null values:\n",
      " False    1201\n",
      "True      259\n",
      "Name: LotFrontage, dtype: int64\n",
      "Name of Column MasVnrArea:\n",
      "Number of Null values:\n",
      " False    1452\n",
      "True        8\n",
      "Name: MasVnrArea, dtype: int64\n",
      "Name of Column GarageYrBlt:\n",
      "Number of Null values:\n",
      " False    1379\n",
      "True       81\n",
      "Name: GarageYrBlt, dtype: int64\n",
      "       LotFrontage   MasVnrArea  GarageYrBlt\n",
      "count  1201.000000  1452.000000  1379.000000\n",
      "mean     70.049958   103.685262  1978.506164\n",
      "std      24.284752   181.066207    24.689725\n",
      "min      21.000000     0.000000  1900.000000\n",
      "25%      59.000000     0.000000  1961.000000\n",
      "50%      69.000000     0.000000  1980.000000\n",
      "75%      80.000000   166.000000  2002.000000\n",
      "max     313.000000  1600.000000  2010.000000\n"
     ]
    },
    {
     "data": {
      "text/plain": [
       "array([[<matplotlib.axes._subplots.AxesSubplot object at 0x7f3d0c298a58>,\n",
       "        <matplotlib.axes._subplots.AxesSubplot object at 0x7f3d03d0b828>],\n",
       "       [<matplotlib.axes._subplots.AxesSubplot object at 0x7f3d03cc93c8>,\n",
       "        <matplotlib.axes._subplots.AxesSubplot object at 0x7f3d03d19a20>]],\n",
       "      dtype=object)"
      ]
     },
     "execution_count": 4,
     "metadata": {},
     "output_type": "execute_result"
    },
    {
     "data": {
      "image/png": "[encoded data removed]",
      "text/plain": [
       "<matplotlib.figure.Figure at 0x7f3d0c289a58>"
      ]
     },
     "metadata": {},
     "output_type": "display_data"
    }
   ],
   "source": [
    "descr(data_train)"
   ]
  },
  {
   "cell_type": "code",
   "execution_count": 5,
   "metadata": {},
   "outputs": [],
   "source": [
    "# For Na value filling of MasVnrArea column\n",
    "def fill_na_mean(x, y):\n",
    "    x[y] = x[y].fillna(np.round(np.mean(x[y])))"
   ]
  },
  {
   "cell_type": "code",
   "execution_count": 6,
   "metadata": {},
   "outputs": [],
   "source": [
    "fill_na_mean(data_train, 'MasVnrArea')"
   ]
  },
  {
   "cell_type": "code",
   "execution_count": 7,
   "metadata": {},
   "outputs": [],
   "source": [
    "# For filling na with range of random values\n",
    "def fill_na_range(A, B, x,y):\n",
    "    a = range(x,y)\n",
    "    c = A[B].isnull()\n",
    "    A[B] = A[B].fillna(pd.Series(np.random.choice(a, size=A.shape[0])))"
   ]
  },
  {
   "cell_type": "code",
   "execution_count": 8,
   "metadata": {},
   "outputs": [],
   "source": [
    "fill_na_range(data_train, 'LotFrontage', 50, 100)"
   ]
  },
  {
   "cell_type": "code",
   "execution_count": 9,
   "metadata": {},
   "outputs": [],
   "source": [
    "fill_na_range(data_train, 'GarageYrBlt', 1960, 2000)"
   ]
  },
  {
   "cell_type": "code",
   "execution_count": 10,
   "metadata": {},
   "outputs": [],
   "source": [
    "#rand_range = [i for i in range(40,100)]\n",
    "#data_train['LotFrontage'] = data_train['LotFrontage'].fillna(pd.Series(np.random.choice(rand_range,size=data_train.shape[0])))"
   ]
  },
  {
   "cell_type": "code",
   "execution_count": 11,
   "metadata": {},
   "outputs": [
    {
     "data": {
      "text/plain": [
       "False    1460\n",
       "Name: GarageYrBlt, dtype: int64"
      ]
     },
     "execution_count": 11,
     "metadata": {},
     "output_type": "execute_result"
    }
   ],
   "source": [
    "# To check the Na values\n",
    "def is_na(x,y):\n",
    "    return x[y].isnull().value_counts()\n",
    "\n",
    "is_na(data_train,'GarageYrBlt')"
   ]
  },
  {
   "cell_type": "code",
   "execution_count": 12,
   "metadata": {},
   "outputs": [
    {
     "data": {
      "text/plain": [
       "<matplotlib.axes._subplots.AxesSubplot at 0x7f3d03bc85c0>"
      ]
     },
     "execution_count": 12,
     "metadata": {},
     "output_type": "execute_result"
    },
    {
     "data": {
      "image/png": "[encoded data removed]",
      "text/plain": [
       "<matplotlib.figure.Figure at 0x7f3d03be2240>"
      ]
     },
     "metadata": {},
     "output_type": "display_data"
    }
   ],
   "source": [
    "data_train.MasVnrArea.hist()"
   ]
  },
  {
   "cell_type": "code",
   "execution_count": 13,
   "metadata": {},
   "outputs": [
    {
     "data": {
      "text/plain": [
       "<matplotlib.axes._subplots.AxesSubplot at 0x7f3d03b983c8>"
      ]
     },
     "execution_count": 13,
     "metadata": {},
     "output_type": "execute_result"
    },
    {
     "data": {
      "image/png": "[encoded data removed]",
      "text/plain": [
       "<matplotlib.figure.Figure at 0x7f3d03b53f60>"
      ]
     },
     "metadata": {},
     "output_type": "display_data"
    }
   ],
   "source": [
    "data_train.YrSold.hist()"
   ]
  },
  {
   "cell_type": "code",
   "execution_count": 14,
   "metadata": {},
   "outputs": [
    {
     "data": {
      "text/plain": [
       "<matplotlib.collections.PathCollection at 0x7f3d03a35f28>"
      ]
     },
     "execution_count": 14,
     "metadata": {},
     "output_type": "execute_result"
    },
    {
     "data": {
      "image/png": "[encoded data removed]",
      "text/plain": [
       "<matplotlib.figure.Figure at 0x7f3d03b08550>"
      ]
     },
     "metadata": {},
     "output_type": "display_data"
    }
   ],
   "source": [
    "# Here we are checking if filled GarageYrBlt na values are not greater than YrSold\n",
    "#(data_train.YearBuilt > data_train.YrSold).value_counts()\n",
    "plt.figure(figsize=(15,6))\n",
    "plt.scatter(data_train.GarageYrBlt, data_train.YrSold)"
   ]
  },
  {
   "cell_type": "code",
   "execution_count": 15,
   "metadata": {},
   "outputs": [
    {
     "data": {
      "text/plain": [
       "Index(['Id', 'MSSubClass', 'MSZoning', 'LotFrontage', 'LotArea', 'Street',\n",
       "       'Alley', 'LotShape', 'LandContour', 'Utilities', 'LotConfig',\n",
       "       'LandSlope', 'Neighborhood', 'Condition1', 'Condition2', 'BldgType',\n",
       "       'HouseStyle', 'OverallQual', 'OverallCond', 'YearBuilt', 'YearRemodAdd',\n",
       "       'RoofStyle', 'RoofMatl', 'Exterior1st', 'Exterior2nd', 'MasVnrType',\n",
       "       'MasVnrArea', 'ExterQual', 'ExterCond', 'Foundation', 'BsmtQual',\n",
       "       'BsmtCond', 'BsmtExposure', 'BsmtFinType1', 'BsmtFinSF1',\n",
       "       'BsmtFinType2', 'BsmtFinSF2', 'BsmtUnfSF', 'TotalBsmtSF', 'Heating',\n",
       "       'HeatingQC', 'CentralAir', 'Electrical', '1stFlrSF', '2ndFlrSF',\n",
       "       'LowQualFinSF', 'GrLivArea', 'BsmtFullBath', 'BsmtHalfBath', 'FullBath',\n",
       "       'HalfBath', 'BedroomAbvGr', 'KitchenAbvGr', 'KitchenQual',\n",
       "       'TotRmsAbvGrd', 'Functional', 'Fireplaces', 'FireplaceQu', 'GarageType',\n",
       "       'GarageYrBlt', 'GarageFinish', 'GarageCars', 'GarageArea', 'GarageQual',\n",
       "       'GarageCond', 'PavedDrive', 'WoodDeckSF', 'OpenPorchSF',\n",
       "       'EnclosedPorch', '3SsnPorch', 'ScreenPorch', 'PoolArea', 'PoolQC',\n",
       "       'Fence', 'MiscFeature', 'MiscVal', 'MoSold', 'YrSold', 'SaleType',\n",
       "       'SaleCondition', 'SalePrice'],\n",
       "      dtype='object')"
      ]
     },
     "execution_count": 15,
     "metadata": {},
     "output_type": "execute_result"
    }
   ],
   "source": [
    "data_train.columns"
   ]
  },
  {
   "cell_type": "code",
   "execution_count": 16,
   "metadata": {},
   "outputs": [
    {
     "data": {
      "text/plain": [
       "False    1459\n",
       "True        1\n",
       "dtype: int64"
      ]
     },
     "execution_count": 16,
     "metadata": {},
     "output_type": "execute_result"
    }
   ],
   "source": [
    "(data_train.YearRemodAdd > data_train.YrSold).value_counts()"
   ]
  },
  {
   "cell_type": "code",
   "execution_count": 17,
   "metadata": {},
   "outputs": [
    {
     "data": {
      "text/html": [
       "<div>\n",
       "<style scoped>\n",
       "    .dataframe tbody tr th:only-of-type {\n",
       "        vertical-align: middle;\n",
       "    }\n",
       "\n",
       "    .dataframe tbody tr th {\n",
       "        vertical-align: top;\n",
       "    }\n",
       "\n",
       "    .dataframe thead th {\n",
       "        text-align: right;\n",
       "    }\n",
       "</style>\n",
       "<table border=\"1\" class=\"dataframe\">\n",
       "  <thead>\n",
       "    <tr style=\"text-align: right;\">\n",
       "      <th></th>\n",
       "      <th>YearRemodAdd</th>\n",
       "      <th>YrSold</th>\n",
       "    </tr>\n",
       "  </thead>\n",
       "  <tbody>\n",
       "    <tr>\n",
       "      <th>523</th>\n",
       "      <td>2008</td>\n",
       "      <td>2007</td>\n",
       "    </tr>\n",
       "  </tbody>\n",
       "</table>\n",
       "</div>"
      ],
      "text/plain": [
       "     YearRemodAdd  YrSold\n",
       "523          2008    2007"
      ]
     },
     "execution_count": 17,
     "metadata": {},
     "output_type": "execute_result"
    }
   ],
   "source": [
    "# This data point does not affect sale price\n",
    "# We shall handle this situation by taking only positive value.\n",
    "y = data_train[(data_train.YearRemodAdd > data_train.YrSold)]\n",
    "y[['YearRemodAdd', 'YrSold']]"
   ]
  },
  {
   "cell_type": "code",
   "execution_count": 18,
   "metadata": {},
   "outputs": [
    {
     "data": {
      "text/plain": [
       "False    1460\n",
       "dtype: int64"
      ]
     },
     "execution_count": 18,
     "metadata": {},
     "output_type": "execute_result"
    }
   ],
   "source": [
    "(data_train.YearRemodAdd < data_train.YearBuilt).value_counts()"
   ]
  },
  {
   "cell_type": "code",
   "execution_count": 19,
   "metadata": {},
   "outputs": [],
   "source": [
    "data_train['buit_sold_diff'] = data_train.YrSold - data_train.YearBuilt\n",
    "data_train['built_remod_diff'] = data_train.YearRemodAdd - data_train.YearBuilt\n",
    "data_train['remod_sold_diff'] = data_train.YrSold - data_train.YearRemodAdd"
   ]
  },
  {
   "cell_type": "code",
   "execution_count": 20,
   "metadata": {},
   "outputs": [],
   "source": [
    "# Categorical columns\n",
    "columns = data_train.columns\n",
    "numeric_cols = data_train._get_numeric_data().columns\n",
    "categorical_cols = list(set(columns) - set(numeric_cols))"
   ]
  },
  {
   "cell_type": "code",
   "execution_count": 21,
   "metadata": {},
   "outputs": [
    {
     "name": "stdout",
     "output_type": "stream",
     "text": [
      "Utilities\n",
      "CentralAir\n",
      "Alley\n",
      "Street\n"
     ]
    }
   ],
   "source": [
    "# Here we are checking if there are any columns with only binary values\n",
    "binary_cols = []\n",
    "for i in categorical_cols:\n",
    "    if data_train[i].nunique() == 2:\n",
    "        binary_cols.append(i)\n",
    "        print(i)"
   ]
  },
  {
   "cell_type": "code",
   "execution_count": 22,
   "metadata": {},
   "outputs": [],
   "source": [
    "# Equivalent to --->data_train['CentralAir'] = np.where(data_train['CentralAir'] == 'Y', 1, data_train['CentralAir'])\n",
    "# --->data_train['CentralAir'] = np.where(data_train['CentralAir'] == 'N', 0, data_train['CentralAir'])\n",
    "# We are doing this to reduce number of features\n",
    "\n",
    "def binary_coding(a, b):\n",
    "    a[b] = np.where(a[b] == a[b].unique()[0], 1, a[b])\n",
    "    a[b] = np.where(a[b] == a[b].unique()[1], 0, a[b])"
   ]
  },
  {
   "cell_type": "code",
   "execution_count": 23,
   "metadata": {},
   "outputs": [],
   "source": [
    "binary_coding(data_train, 'Street')\n",
    "binary_coding(data_train, 'CentralAir')\n",
    "binary_coding(data_train, 'Utilities')"
   ]
  },
  {
   "cell_type": "code",
   "execution_count": 24,
   "metadata": {},
   "outputs": [],
   "source": [
    "for i in binary_cols:\n",
    "    if i != 'Alley':\n",
    "        categorical_cols.remove(i)"
   ]
  },
  {
   "cell_type": "code",
   "execution_count": 25,
   "metadata": {},
   "outputs": [
    {
     "data": {
      "text/html": [
       "<div>\n",
       "<style scoped>\n",
       "    .dataframe tbody tr th:only-of-type {\n",
       "        vertical-align: middle;\n",
       "    }\n",
       "\n",
       "    .dataframe tbody tr th {\n",
       "        vertical-align: top;\n",
       "    }\n",
       "\n",
       "    .dataframe thead th {\n",
       "        text-align: right;\n",
       "    }\n",
       "</style>\n",
       "<table border=\"1\" class=\"dataframe\">\n",
       "  <thead>\n",
       "    <tr style=\"text-align: right;\">\n",
       "      <th></th>\n",
       "      <th>Id</th>\n",
       "      <th>MSSubClass</th>\n",
       "      <th>MSZoning</th>\n",
       "      <th>LotFrontage</th>\n",
       "      <th>LotArea</th>\n",
       "      <th>Street</th>\n",
       "      <th>Alley</th>\n",
       "      <th>LotShape</th>\n",
       "      <th>LandContour</th>\n",
       "      <th>Utilities</th>\n",
       "      <th>...</th>\n",
       "      <th>MiscFeature</th>\n",
       "      <th>MiscVal</th>\n",
       "      <th>MoSold</th>\n",
       "      <th>YrSold</th>\n",
       "      <th>SaleType</th>\n",
       "      <th>SaleCondition</th>\n",
       "      <th>SalePrice</th>\n",
       "      <th>buit_sold_diff</th>\n",
       "      <th>built_remod_diff</th>\n",
       "      <th>remod_sold_diff</th>\n",
       "    </tr>\n",
       "  </thead>\n",
       "  <tbody>\n",
       "  </tbody>\n",
       "</table>\n",
       "<p>0 rows × 84 columns</p>\n",
       "</div>"
      ],
      "text/plain": [
       "Empty DataFrame\n",
       "Columns: [Id, MSSubClass, MSZoning, LotFrontage, LotArea, Street, Alley, LotShape, LandContour, Utilities, LotConfig, LandSlope, Neighborhood, Condition1, Condition2, BldgType, HouseStyle, OverallQual, OverallCond, YearBuilt, YearRemodAdd, RoofStyle, RoofMatl, Exterior1st, Exterior2nd, MasVnrType, MasVnrArea, ExterQual, ExterCond, Foundation, BsmtQual, BsmtCond, BsmtExposure, BsmtFinType1, BsmtFinSF1, BsmtFinType2, BsmtFinSF2, BsmtUnfSF, TotalBsmtSF, Heating, HeatingQC, CentralAir, Electrical, 1stFlrSF, 2ndFlrSF, LowQualFinSF, GrLivArea, BsmtFullBath, BsmtHalfBath, FullBath, HalfBath, BedroomAbvGr, KitchenAbvGr, KitchenQual, TotRmsAbvGrd, Functional, Fireplaces, FireplaceQu, GarageType, GarageYrBlt, GarageFinish, GarageCars, GarageArea, GarageQual, GarageCond, PavedDrive, WoodDeckSF, OpenPorchSF, EnclosedPorch, 3SsnPorch, ScreenPorch, PoolArea, PoolQC, Fence, MiscFeature, MiscVal, MoSold, YrSold, SaleType, SaleCondition, SalePrice, buit_sold_diff, built_remod_diff, remod_sold_diff]\n",
       "Index: []\n",
       "\n",
       "[0 rows x 84 columns]"
      ]
     },
     "execution_count": 25,
     "metadata": {},
     "output_type": "execute_result"
    }
   ],
   "source": [
    "# We have checked if any row is a duplicate of any other row\n",
    "data_train[data_train.duplicated(keep=False)]"
   ]
  },
  {
   "cell_type": "code",
   "execution_count": 26,
   "metadata": {},
   "outputs": [],
   "source": [
    "del data_train['YearBuilt']\n",
    "del data_train['YrSold']\n",
    "del data_train['YearRemodAdd']\n",
    "del data_train['Id']"
   ]
  },
  {
   "cell_type": "code",
   "execution_count": 27,
   "metadata": {},
   "outputs": [],
   "source": [
    "dummy_data = pd.get_dummies(data=data_train, columns=categorical_cols)"
   ]
  },
  {
   "cell_type": "code",
   "execution_count": 28,
   "metadata": {},
   "outputs": [
    {
     "data": {
      "text/html": [
       "<div>\n",
       "<style scoped>\n",
       "    .dataframe tbody tr th:only-of-type {\n",
       "        vertical-align: middle;\n",
       "    }\n",
       "\n",
       "    .dataframe tbody tr th {\n",
       "        vertical-align: top;\n",
       "    }\n",
       "\n",
       "    .dataframe thead th {\n",
       "        text-align: right;\n",
       "    }\n",
       "</style>\n",
       "<table border=\"1\" class=\"dataframe\">\n",
       "  <thead>\n",
       "    <tr style=\"text-align: right;\">\n",
       "      <th></th>\n",
       "      <th>MSSubClass</th>\n",
       "      <th>LotFrontage</th>\n",
       "      <th>LotArea</th>\n",
       "      <th>Street</th>\n",
       "      <th>Utilities</th>\n",
       "      <th>OverallQual</th>\n",
       "      <th>OverallCond</th>\n",
       "      <th>MasVnrArea</th>\n",
       "      <th>BsmtFinSF1</th>\n",
       "      <th>BsmtFinSF2</th>\n",
       "      <th>...</th>\n",
       "      <th>Electrical_SBrkr</th>\n",
       "      <th>GarageCond_Ex</th>\n",
       "      <th>GarageCond_Fa</th>\n",
       "      <th>GarageCond_Gd</th>\n",
       "      <th>GarageCond_Po</th>\n",
       "      <th>GarageCond_TA</th>\n",
       "      <th>BsmtExposure_Av</th>\n",
       "      <th>BsmtExposure_Gd</th>\n",
       "      <th>BsmtExposure_Mn</th>\n",
       "      <th>BsmtExposure_No</th>\n",
       "    </tr>\n",
       "  </thead>\n",
       "  <tbody>\n",
       "    <tr>\n",
       "      <th>0</th>\n",
       "      <td>60</td>\n",
       "      <td>65.0</td>\n",
       "      <td>8450</td>\n",
       "      <td>1</td>\n",
       "      <td>1</td>\n",
       "      <td>7</td>\n",
       "      <td>5</td>\n",
       "      <td>196.0</td>\n",
       "      <td>706</td>\n",
       "      <td>0</td>\n",
       "      <td>...</td>\n",
       "      <td>1</td>\n",
       "      <td>0</td>\n",
       "      <td>0</td>\n",
       "      <td>0</td>\n",
       "      <td>0</td>\n",
       "      <td>1</td>\n",
       "      <td>0</td>\n",
       "      <td>0</td>\n",
       "      <td>0</td>\n",
       "      <td>1</td>\n",
       "    </tr>\n",
       "    <tr>\n",
       "      <th>1</th>\n",
       "      <td>20</td>\n",
       "      <td>80.0</td>\n",
       "      <td>9600</td>\n",
       "      <td>1</td>\n",
       "      <td>1</td>\n",
       "      <td>6</td>\n",
       "      <td>8</td>\n",
       "      <td>0.0</td>\n",
       "      <td>978</td>\n",
       "      <td>0</td>\n",
       "      <td>...</td>\n",
       "      <td>1</td>\n",
       "      <td>0</td>\n",
       "      <td>0</td>\n",
       "      <td>0</td>\n",
       "      <td>0</td>\n",
       "      <td>1</td>\n",
       "      <td>0</td>\n",
       "      <td>1</td>\n",
       "      <td>0</td>\n",
       "      <td>0</td>\n",
       "    </tr>\n",
       "    <tr>\n",
       "      <th>2</th>\n",
       "      <td>60</td>\n",
       "      <td>68.0</td>\n",
       "      <td>11250</td>\n",
       "      <td>1</td>\n",
       "      <td>1</td>\n",
       "      <td>7</td>\n",
       "      <td>5</td>\n",
       "      <td>162.0</td>\n",
       "      <td>486</td>\n",
       "      <td>0</td>\n",
       "      <td>...</td>\n",
       "      <td>1</td>\n",
       "      <td>0</td>\n",
       "      <td>0</td>\n",
       "      <td>0</td>\n",
       "      <td>0</td>\n",
       "      <td>1</td>\n",
       "      <td>0</td>\n",
       "      <td>0</td>\n",
       "      <td>1</td>\n",
       "      <td>0</td>\n",
       "    </tr>\n",
       "    <tr>\n",
       "      <th>3</th>\n",
       "      <td>70</td>\n",
       "      <td>60.0</td>\n",
       "      <td>9550</td>\n",
       "      <td>1</td>\n",
       "      <td>1</td>\n",
       "      <td>7</td>\n",
       "      <td>5</td>\n",
       "      <td>0.0</td>\n",
       "      <td>216</td>\n",
       "      <td>0</td>\n",
       "      <td>...</td>\n",
       "      <td>1</td>\n",
       "      <td>0</td>\n",
       "      <td>0</td>\n",
       "      <td>0</td>\n",
       "      <td>0</td>\n",
       "      <td>1</td>\n",
       "      <td>0</td>\n",
       "      <td>0</td>\n",
       "      <td>0</td>\n",
       "      <td>1</td>\n",
       "    </tr>\n",
       "    <tr>\n",
       "      <th>4</th>\n",
       "      <td>60</td>\n",
       "      <td>84.0</td>\n",
       "      <td>14260</td>\n",
       "      <td>1</td>\n",
       "      <td>1</td>\n",
       "      <td>8</td>\n",
       "      <td>5</td>\n",
       "      <td>350.0</td>\n",
       "      <td>655</td>\n",
       "      <td>0</td>\n",
       "      <td>...</td>\n",
       "      <td>1</td>\n",
       "      <td>0</td>\n",
       "      <td>0</td>\n",
       "      <td>0</td>\n",
       "      <td>0</td>\n",
       "      <td>1</td>\n",
       "      <td>1</td>\n",
       "      <td>0</td>\n",
       "      <td>0</td>\n",
       "      <td>0</td>\n",
       "    </tr>\n",
       "  </tbody>\n",
       "</table>\n",
       "<p>5 rows × 286 columns</p>\n",
       "</div>"
      ],
      "text/plain": [
       "   MSSubClass  LotFrontage  LotArea Street Utilities  OverallQual  \\\n",
       "0          60         65.0     8450      1         1            7   \n",
       "1          20         80.0     9600      1         1            6   \n",
       "2          60         68.0    11250      1         1            7   \n",
       "3          70         60.0     9550      1         1            7   \n",
       "4          60         84.0    14260      1         1            8   \n",
       "\n",
       "   OverallCond  MasVnrArea  BsmtFinSF1  BsmtFinSF2       ...         \\\n",
       "0            5       196.0         706           0       ...          \n",
       "1            8         0.0         978           0       ...          \n",
       "2            5       162.0         486           0       ...          \n",
       "3            5         0.0         216           0       ...          \n",
       "4            5       350.0         655           0       ...          \n",
       "\n",
       "   Electrical_SBrkr  GarageCond_Ex GarageCond_Fa  GarageCond_Gd  \\\n",
       "0                 1              0             0              0   \n",
       "1                 1              0             0              0   \n",
       "2                 1              0             0              0   \n",
       "3                 1              0             0              0   \n",
       "4                 1              0             0              0   \n",
       "\n",
       "   GarageCond_Po  GarageCond_TA  BsmtExposure_Av  BsmtExposure_Gd  \\\n",
       "0              0              1                0                0   \n",
       "1              0              1                0                1   \n",
       "2              0              1                0                0   \n",
       "3              0              1                0                0   \n",
       "4              0              1                1                0   \n",
       "\n",
       "   BsmtExposure_Mn  BsmtExposure_No  \n",
       "0                0                1  \n",
       "1                0                0  \n",
       "2                1                0  \n",
       "3                0                1  \n",
       "4                0                0  \n",
       "\n",
       "[5 rows x 286 columns]"
      ]
     },
     "execution_count": 28,
     "metadata": {},
     "output_type": "execute_result"
    }
   ],
   "source": [
    "dummy_data.head()"
   ]
  },
  {
   "cell_type": "code",
   "execution_count": 29,
   "metadata": {},
   "outputs": [
    {
     "data": {
      "text/html": [
       "<div>\n",
       "<style scoped>\n",
       "    .dataframe tbody tr th:only-of-type {\n",
       "        vertical-align: middle;\n",
       "    }\n",
       "\n",
       "    .dataframe tbody tr th {\n",
       "        vertical-align: top;\n",
       "    }\n",
       "\n",
       "    .dataframe thead th {\n",
       "        text-align: right;\n",
       "    }\n",
       "</style>\n",
       "<table border=\"1\" class=\"dataframe\">\n",
       "  <thead>\n",
       "    <tr style=\"text-align: right;\">\n",
       "      <th></th>\n",
       "      <th>MSSubClass</th>\n",
       "      <th>LotFrontage</th>\n",
       "      <th>LotArea</th>\n",
       "      <th>Street</th>\n",
       "      <th>Utilities</th>\n",
       "      <th>OverallQual</th>\n",
       "      <th>OverallCond</th>\n",
       "      <th>MasVnrArea</th>\n",
       "      <th>BsmtFinSF1</th>\n",
       "      <th>BsmtFinSF2</th>\n",
       "      <th>...</th>\n",
       "      <th>Electrical_SBrkr</th>\n",
       "      <th>GarageCond_Ex</th>\n",
       "      <th>GarageCond_Fa</th>\n",
       "      <th>GarageCond_Gd</th>\n",
       "      <th>GarageCond_Po</th>\n",
       "      <th>GarageCond_TA</th>\n",
       "      <th>BsmtExposure_Av</th>\n",
       "      <th>BsmtExposure_Gd</th>\n",
       "      <th>BsmtExposure_Mn</th>\n",
       "      <th>BsmtExposure_No</th>\n",
       "    </tr>\n",
       "  </thead>\n",
       "  <tbody>\n",
       "    <tr>\n",
       "      <th>523</th>\n",
       "      <td>60</td>\n",
       "      <td>130.0</td>\n",
       "      <td>40094</td>\n",
       "      <td>1</td>\n",
       "      <td>1</td>\n",
       "      <td>10</td>\n",
       "      <td>5</td>\n",
       "      <td>762.0</td>\n",
       "      <td>2260</td>\n",
       "      <td>0</td>\n",
       "      <td>...</td>\n",
       "      <td>1</td>\n",
       "      <td>0</td>\n",
       "      <td>0</td>\n",
       "      <td>0</td>\n",
       "      <td>0</td>\n",
       "      <td>1</td>\n",
       "      <td>0</td>\n",
       "      <td>1</td>\n",
       "      <td>0</td>\n",
       "      <td>0</td>\n",
       "    </tr>\n",
       "  </tbody>\n",
       "</table>\n",
       "<p>1 rows × 286 columns</p>\n",
       "</div>"
      ],
      "text/plain": [
       "     MSSubClass  LotFrontage  LotArea Street Utilities  OverallQual  \\\n",
       "523          60        130.0    40094      1         1           10   \n",
       "\n",
       "     OverallCond  MasVnrArea  BsmtFinSF1  BsmtFinSF2       ...         \\\n",
       "523            5       762.0        2260           0       ...          \n",
       "\n",
       "     Electrical_SBrkr  GarageCond_Ex GarageCond_Fa  GarageCond_Gd  \\\n",
       "523                 1              0             0              0   \n",
       "\n",
       "     GarageCond_Po  GarageCond_TA  BsmtExposure_Av  BsmtExposure_Gd  \\\n",
       "523              0              1                0                1   \n",
       "\n",
       "     BsmtExposure_Mn  BsmtExposure_No  \n",
       "523                0                0  \n",
       "\n",
       "[1 rows x 286 columns]"
      ]
     },
     "execution_count": 29,
     "metadata": {},
     "output_type": "execute_result"
    }
   ],
   "source": [
    "dummy_data[dummy_data['remod_sold_diff'] == -1]"
   ]
  },
  {
   "cell_type": "code",
   "execution_count": 30,
   "metadata": {},
   "outputs": [],
   "source": [
    "dummy_data['remod_sold_diff'] = np.absolute(dummy_data['remod_sold_diff'])"
   ]
  },
  {
   "cell_type": "code",
   "execution_count": 31,
   "metadata": {},
   "outputs": [
    {
     "data": {
      "text/plain": [
       "False    286\n",
       "dtype: int64"
      ]
     },
     "execution_count": 31,
     "metadata": {},
     "output_type": "execute_result"
    }
   ],
   "source": [
    "# So we have successfully converted our data to numerical form, suitable for regression\n",
    "# There are no na values.\n",
    "dummy_data.isnull().any().value_counts()"
   ]
  },
  {
   "cell_type": "code",
   "execution_count": 32,
   "metadata": {},
   "outputs": [],
   "source": [
    "y = dummy_data[['SalePrice']]\n",
    "del dummy_data['SalePrice']\n",
    "x = dummy_data"
   ]
  },
  {
   "cell_type": "code",
   "execution_count": 33,
   "metadata": {},
   "outputs": [],
   "source": [
    "lm = LinearRegression()\n",
    "model = lm.fit(x, y)"
   ]
  },
  {
   "cell_type": "code",
   "execution_count": 34,
   "metadata": {},
   "outputs": [
    {
     "data": {
      "text/plain": [
       "array([[207894.33413196],\n",
       "       [204195.37237078],\n",
       "       [206195.47504427],\n",
       "       [165488.08032857],\n",
       "       [288718.56428019],\n",
       "       [148911.58201261],\n",
       "       [280045.90346338],\n",
       "       [228391.25791552],\n",
       "       [135639.15978804],\n",
       "       [117348.11384885],\n",
       "       [136774.54048478],\n",
       "       [397043.70992419],\n",
       "       [136841.02341703],\n",
       "       [230049.83884301],\n",
       "       [150846.89584817]])"
      ]
     },
     "execution_count": 34,
     "metadata": {},
     "output_type": "execute_result"
    }
   ],
   "source": [
    "lm.predict(x)[:15]"
   ]
  },
  {
   "cell_type": "code",
   "execution_count": 35,
   "metadata": {},
   "outputs": [
    {
     "data": {
      "text/plain": [
       "0.9410950620754175"
      ]
     },
     "execution_count": 35,
     "metadata": {},
     "output_type": "execute_result"
    }
   ],
   "source": [
    "lm.score(x, y)"
   ]
  },
  {
   "cell_type": "code",
   "execution_count": 36,
   "metadata": {},
   "outputs": [
    {
     "data": {
      "text/plain": [
       "array([[-4.38100141e+01,  3.97926484e+01,  7.98108103e-01,\n",
       "         3.35587176e+04,  2.85617408e+04,  6.33421484e+03,\n",
       "         5.94176543e+03,  1.93959491e+01,  1.76505286e+01,\n",
       "         8.44284777e+00, -1.01172233e+00,  2.50815383e+01,\n",
       "         1.02933082e+02,  1.94168807e+01,  3.83977056e+01,\n",
       "        -2.63578295e+01,  3.14567301e+01,  1.06547331e+03,\n",
       "        -4.63995766e+02,  3.23645101e+03,  1.54632691e+03,\n",
       "        -4.58488968e+03, -1.39542406e+04,  1.32337317e+03,\n",
       "         4.54981994e+03, -3.37659182e-02,  5.09092873e+03,\n",
       "         8.94004799e+00,  1.43304814e+01,  1.19981408e+01,\n",
       "         3.19093547e+00,  2.91118575e+01,  3.47987226e+01,\n",
       "         6.28989881e+02,  1.27012837e+00, -3.53110198e+02,\n",
       "         2.03668935e+05, -2.04033451e+05, -2.04134843e+05,\n",
       "         2.69319772e+04,  1.40242039e+04,  2.45601784e+04,\n",
       "         1.23554405e+04,  1.58899646e+04,  1.78780064e+04,\n",
       "        -4.39683732e+03, -5.96257906e+03, -3.92978933e+03,\n",
       "        -7.35688398e+03,  4.94933531e+03,  5.74256651e+02,\n",
       "        -2.36898020e+03, -1.54470538e+04,  1.96493260e+04,\n",
       "        -1.97904103e+04,  1.24135174e+04,  1.55434592e+03,\n",
       "         1.78202066e+04, -4.70566301e+03,  2.09306403e+03,\n",
       "         1.07457941e+04,  1.83910236e+03,  7.13175713e+03,\n",
       "        -2.02432972e+04,  7.63129963e+03, -9.36035778e+03,\n",
       "         4.86830079e+03, -2.39236580e+04, -1.63786297e+04,\n",
       "        -1.45696660e+04, -1.68052567e+04, -5.57839206e+03,\n",
       "         7.72556026e+04,  6.35487302e+02,  1.96596614e+03,\n",
       "        -2.64647899e+03,  2.19577105e+03, -2.15074551e+03,\n",
       "         9.10026984e+03,  4.23295490e+03, -2.92332988e+02,\n",
       "        -8.82641367e+03, -4.21447809e+03,  9.88689554e+04,\n",
       "        -2.75507092e+04, -2.14018395e+04, -4.28762101e+04,\n",
       "        -2.13294023e+04,  1.15957186e+04, -1.48026018e+04,\n",
       "         4.59101571e+03,  1.77177104e+04, -5.99150806e+03,\n",
       "        -3.72389524e+03, -2.61499144e+03, -1.05415168e+04,\n",
       "         4.21192977e+03, -4.00975136e+03,  6.49196038e+03,\n",
       "         2.73150322e+03, -4.17784015e+03, -3.26839503e+03,\n",
       "         1.79066185e+03,  1.24767624e+04,  4.76455119e+03,\n",
       "        -8.79830224e+03, -8.44301140e+03, -9.17974277e+03,\n",
       "        -6.25954636e+03, -3.56923759e+03, -1.27285204e+04,\n",
       "        -9.59225099e+03, -6.02612831e+03, -2.01984683e+04,\n",
       "         1.34035587e+04,  2.33905711e+03,  4.91479479e+03,\n",
       "        -4.58942332e+02,  1.85429958e+04,  1.49209918e+04,\n",
       "         1.44612251e+04,  5.76949032e+04, -2.52302946e+04,\n",
       "        -1.04012625e+05, -5.20600083e+02,  2.41434034e+04,\n",
       "        -1.45450530e+03,  2.19278594e+03, -4.03851970e+02,\n",
       "        -3.34428675e+02, -1.85002445e+04, -1.98768677e+03,\n",
       "         1.14685443e+03,  2.37104027e+02,  3.05993337e+03,\n",
       "         1.75483370e+03,  1.43146063e+03,  1.46208551e+04,\n",
       "         3.18792458e+03,  8.16436451e+02, -1.34672565e+04,\n",
       "        -7.64218878e+03,  1.52432231e+04, -1.46056403e+04,\n",
       "        -9.94474242e+03, -3.98013639e+03, -4.53552095e+02,\n",
       "        -1.73756285e+04, -1.26792360e+04,  1.47700791e+04,\n",
       "        -1.41585429e+04,  2.40074516e+04,  1.38904300e+04,\n",
       "        -7.64116628e+03, -5.41470836e+03, -6.66544160e+03,\n",
       "        -1.36750299e+03, -2.09182933e+03,  3.76344996e+04,\n",
       "        -9.17932600e+03,  1.06453820e+03,  1.62693438e+04,\n",
       "        -3.30736539e+03, -7.29711640e+03, -5.66486203e+03,\n",
       "        -3.04983563e+04, -3.03403290e+04,  4.09814953e+04,\n",
       "        -2.74982365e+04,  3.27801674e+03,  6.11036719e+03,\n",
       "        -1.26467234e+04,  3.25833945e+03,  1.35012756e+03,\n",
       "        -2.67829340e+03,  1.32816584e+03, -1.89368744e+03,\n",
       "        -1.11749965e+04, -1.93628701e+04, -1.49238724e+04,\n",
       "         1.23955981e+03, -7.25810574e+02, -7.01731200e+03,\n",
       "         1.02103760e+04, -3.70681329e+03,  1.42968932e+04,\n",
       "         1.91941575e+04, -3.34910507e+04, -8.94808469e+03,\n",
       "        -7.38024046e+02,  5.70126183e+02, -6.20549488e+03,\n",
       "         6.32827847e+02,  1.54982619e+04,  7.61915190e+03,\n",
       "        -2.09487829e+04, -1.01365654e+04, -4.02485479e+03,\n",
       "         4.75900801e+03,  6.60095346e+03, -5.75191746e+05,\n",
       "         5.42805747e+04,  1.58755199e+05,  1.22572899e+05,\n",
       "         3.78858908e+04,  5.32609221e+04,  4.53174563e+04,\n",
       "         1.03118804e+05,  3.96581634e+03,  5.77878386e+03,\n",
       "         7.04227809e+03, -4.61225414e+03,  1.23537073e+04,\n",
       "        -2.45283315e+04, -7.77157336e+03, -8.60702067e+03,\n",
       "        -5.03586951e+03,  5.88317694e+03, -4.36431065e+03,\n",
       "        -9.88922623e+03,  5.63189946e+03,  1.61015262e+04,\n",
       "         4.67226116e+03, -7.14028829e+03, -6.92392356e+03,\n",
       "         1.00014460e+04, -2.74461642e+03, -9.70907835e+03,\n",
       "        -7.09247555e+02,  3.26827735e+03,  1.03540142e+04,\n",
       "         1.20230113e+04, -4.05760130e+03, -4.32932262e+04,\n",
       "         2.24147723e+04, -3.23584330e+03,  6.53428259e+03,\n",
       "        -3.41364483e+03, -1.75961511e+03,  3.42754028e+03,\n",
       "        -1.55271962e+03,  2.61583882e+03,  1.01392236e+04,\n",
       "        -4.46842698e+03, -9.83196038e+03,  1.54532498e+03,\n",
       "        -5.05571092e+03,  5.65957676e+03,  2.42523729e+03,\n",
       "        -1.95762468e+03, -5.99150806e+03,  8.09518674e+03,\n",
       "         3.50403770e+03,  1.15140176e+04,  7.40019846e+02,\n",
       "        -2.15522162e+04,  1.33524874e+03, -1.61763487e+04,\n",
       "         1.50826334e+03,  8.56198765e+03,  6.33053676e+03,\n",
       "         1.05929608e+03,  8.96526021e+02, -7.51069668e+02,\n",
       "        -2.37174647e+05, -3.73930411e+05, -3.49212676e+05,\n",
       "        -1.38136528e+03,  3.42695255e+03,  6.89539885e+03,\n",
       "         1.17431879e+04, -1.02709231e+04, -9.88371238e+03,\n",
       "        -1.94404440e+04, -5.90735820e+04, -1.18895305e+04,\n",
       "        -9.11284552e+04,  1.83017908e+04,  1.69358658e+04,\n",
       "         2.16836035e+04,  1.99179894e+04,  1.14675033e+04,\n",
       "         2.77896996e+04,  8.82218167e+03,  7.16959387e+03]])"
      ]
     },
     "execution_count": 36,
     "metadata": {},
     "output_type": "execute_result"
    }
   ],
   "source": [
    "lm.coef_"
   ]
  },
  {
   "cell_type": "code",
   "execution_count": 37,
   "metadata": {},
   "outputs": [
    {
     "data": {
      "text/plain": [
       "array([-136222.54610726])"
      ]
     },
     "execution_count": 37,
     "metadata": {},
     "output_type": "execute_result"
    }
   ],
   "source": [
    "lm.intercept_"
   ]
  },
  {
   "cell_type": "code",
   "execution_count": 40,
   "metadata": {
    "scrolled": true
   },
   "outputs": [
    {
     "data": {
      "image/png": "[encoded data removed]",
      "text/plain": [
       "<matplotlib.figure.Figure at 0x7f3d0388aef0>"
      ]
     },
     "metadata": {},
     "output_type": "display_data"
    }
   ],
   "source": [
    "plt.figure(figsize=(15,6))\n",
    "plt.plot(y.SalePrice)\n",
    "plt.plot(lm.predict(x))\n",
    "plt.legend(['y = actual', 'y = predicted'], loc = 'upper left')\n",
    "plt.show()"
   ]
  }
 ],
 "metadata": {
  "kernelspec": {
   "display_name": "Python 3",
   "language": "python",
   "name": "python3"
  },
  "language_info": {
   "codemirror_mode": {
    "name": "ipython",
    "version": 3
   },
   "file_extension": ".py",
   "mimetype": "text/x-python",
   "name": "python",
   "nbconvert_exporter": "python",
   "pygments_lexer": "ipython3",
   "version": "3.6.4"
  }
 },
 "nbformat": 4,
 "nbformat_minor": 2
}
